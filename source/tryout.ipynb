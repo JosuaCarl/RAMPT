{
 "cells": [
  {
   "cell_type": "code",
   "execution_count": 1,
   "metadata": {},
   "outputs": [],
   "source": [
    "import sys\n",
    "sys.path.append(\"..\")\n",
    "\n",
    "import os"
   ]
  },
  {
   "cell_type": "code",
   "execution_count": 2,
   "metadata": {},
   "outputs": [],
   "source": [
    "import os\n",
    "import tempfile\n",
    "import datetime\n",
    "from ruamel.yaml import YAML\n",
    "import json\n",
    "\n",
    "import source.helpers.general as helpers\n",
    "from source.helpers.types import StrPath\n",
    "\n",
    "# Import of Pipeline Steps\n",
    "from source.conversion.msconv_pipe import File_Converter\n",
    "from source.feature_finding.mzmine_pipe import MZmine_Runner\n",
    "from source.annotation.sirius_pipe import Sirius_Runner\n",
    "from source.annotation.gnps_pipe import GNPS_Runner\n",
    "\n",
    "class MS_Analysis_Configuration:\n",
    "    def __init__( self, platform:str=\"Linux\", overwrite:bool=False, nested:bool=False,\n",
    "                  save_log:bool=True, verbosity:int=1,\n",
    "                  file_converter:File_Converter|dict=File_Converter(),\n",
    "                  mzmine_runner:MZmine_Runner|dict=MZmine_Runner(),\n",
    "                  gnps_runner:GNPS_Runner|dict=GNPS_Runner(),\n",
    "                  sirius_runner:Sirius_Runner|dict=Sirius_Runner() ):\n",
    "        self.platform       = platform\n",
    "        self.overwrite      = overwrite\n",
    "        self.nested         = nested\n",
    "        self.save_log       = save_log\n",
    "        self.verbosity      = verbosity\n",
    "        self.file_converter = File_Converter(**file_converter)  if isinstance(file_converter, dict) else file_converter\n",
    "        self.mzmine_runner  = MZmine_Runner(**mzmine_runner)    if isinstance(mzmine_runner, dict)  else mzmine_runner\n",
    "        self.gnps_runner    = GNPS_Runner(**gnps_runner)        if isinstance(gnps_runner, dict)    else gnps_runner\n",
    "        self.sirius_runner  = Sirius_Runner(**sirius_runner)    if isinstance(sirius_runner, dict)  else sirius_runner\n",
    "                  \n",
    "\n",
    "    def update( self, dictionary:dict=None, **kwargs ):\n",
    "        if not dictionary:\n",
    "            dictionary = kwargs\n",
    "        for key, value in dictionary.items():\n",
    "            setattr( self, key, value )\n",
    "\n",
    "    def make_nested_attributes_dict( self, object=None, attributes_dict:dict={}):\n",
    "        if not object:\n",
    "            object = self\n",
    "        for attribute, value in object.__dict__.items():\n",
    "            if hasattr(value, \"__dict__\"):\n",
    "                attributes_dict[attribute] = self.make_nested_attributes_dict( object=value, attributes_dict={} )\n",
    "            else:\n",
    "                attributes_dict[attribute] = value\n",
    "        return attributes_dict\n",
    "\n",
    "    def dict_representation( self, attribute ):\n",
    "        attributes_dict = {}\n",
    "        for attribute, value in attribute.__dict__.items():\n",
    "            if hasattr(value, \"__dict__\"):\n",
    "                attributes_dict[attribute] = self.dict_representation(value)\n",
    "            else:\n",
    "                attributes_dict[attribute] = value\n",
    "        return attributes_dict\n",
    "    \n",
    "    def save( self, location ):\n",
    "        yaml = YAML()\n",
    "        with open( location, \"w\") as f:\n",
    "            yaml.dump( self.dict_representation( self ), f )\n",
    "\n",
    "    def load( self, location ):\n",
    "        yaml = YAML()\n",
    "        with open( location, \"r\") as f:\n",
    "            config = yaml.load( f.read() )\n",
    "        self.update( **config )\n",
    "\n",
    "ms_analysis_configuration = MS_Analysis_Configuration()\n",
    "ms_analysis_configuration.save( \"test.yaml\" )"
   ]
  },
  {
   "cell_type": "code",
   "execution_count": 3,
   "metadata": {},
   "outputs": [],
   "source": [
    "ms_analysis_configuration.load( \"test.yaml\" )"
   ]
  },
  {
   "cell_type": "code",
   "execution_count": 4,
   "metadata": {},
   "outputs": [
    {
     "ename": "TypeError",
     "evalue": "source.helpers.classes.Pipe_Step.__init__() got multiple values for keyword argument 'patterns'",
     "output_type": "error",
     "traceback": [
      "\u001b[1;31m---------------------------------------------------------------------------\u001b[0m",
      "\u001b[1;31mTypeError\u001b[0m                                 Traceback (most recent call last)",
      "Cell \u001b[1;32mIn[4], line 4\u001b[0m\n\u001b[0;32m      2\u001b[0m \u001b[38;5;28;01mwith\u001b[39;00m \u001b[38;5;28mopen\u001b[39m( \u001b[38;5;124m\"\u001b[39m\u001b[38;5;124mtest.yaml\u001b[39m\u001b[38;5;124m\"\u001b[39m, \u001b[38;5;124m\"\u001b[39m\u001b[38;5;124mr\u001b[39m\u001b[38;5;124m\"\u001b[39m) \u001b[38;5;28;01mas\u001b[39;00m f:\n\u001b[0;32m      3\u001b[0m     config \u001b[38;5;241m=\u001b[39m yaml\u001b[38;5;241m.\u001b[39mload( f\u001b[38;5;241m.\u001b[39mread() )\n\u001b[1;32m----> 4\u001b[0m msac \u001b[38;5;241m=\u001b[39m \u001b[43mMS_Analysis_Configuration\u001b[49m\u001b[43m(\u001b[49m\u001b[43m \u001b[49m\u001b[38;5;241;43m*\u001b[39;49m\u001b[38;5;241;43m*\u001b[39;49m\u001b[43mconfig\u001b[49m\u001b[43m \u001b[49m\u001b[43m)\u001b[49m\n",
      "Cell \u001b[1;32mIn[2], line 28\u001b[0m, in \u001b[0;36mMS_Analysis_Configuration.__init__\u001b[1;34m(self, platform, overwrite, nested, save_log, verbosity, file_converter, mzmine_runner, gnps_runner, sirius_runner)\u001b[0m\n\u001b[0;32m     26\u001b[0m \u001b[38;5;28mself\u001b[39m\u001b[38;5;241m.\u001b[39msave_log       \u001b[38;5;241m=\u001b[39m save_log\n\u001b[0;32m     27\u001b[0m \u001b[38;5;28mself\u001b[39m\u001b[38;5;241m.\u001b[39mverbosity      \u001b[38;5;241m=\u001b[39m verbosity\n\u001b[1;32m---> 28\u001b[0m \u001b[38;5;28mself\u001b[39m\u001b[38;5;241m.\u001b[39mfile_converter \u001b[38;5;241m=\u001b[39m \u001b[43mFile_Converter\u001b[49m\u001b[43m(\u001b[49m\u001b[38;5;241;43m*\u001b[39;49m\u001b[38;5;241;43m*\u001b[39;49m\u001b[43mfile_converter\u001b[49m\u001b[43m)\u001b[49m  \u001b[38;5;28;01mif\u001b[39;00m \u001b[38;5;28misinstance\u001b[39m(file_converter, \u001b[38;5;28mdict\u001b[39m) \u001b[38;5;28;01melse\u001b[39;00m file_converter\n\u001b[0;32m     29\u001b[0m \u001b[38;5;28mself\u001b[39m\u001b[38;5;241m.\u001b[39mmzmine_runner  \u001b[38;5;241m=\u001b[39m MZmine_Runner(\u001b[38;5;241m*\u001b[39m\u001b[38;5;241m*\u001b[39mmzmine_runner)    \u001b[38;5;28;01mif\u001b[39;00m \u001b[38;5;28misinstance\u001b[39m(mzmine_runner, \u001b[38;5;28mdict\u001b[39m)  \u001b[38;5;28;01melse\u001b[39;00m mzmine_runner\n\u001b[0;32m     30\u001b[0m \u001b[38;5;28mself\u001b[39m\u001b[38;5;241m.\u001b[39mgnps_runner    \u001b[38;5;241m=\u001b[39m GNPS_Runner(\u001b[38;5;241m*\u001b[39m\u001b[38;5;241m*\u001b[39mgnps_runner)        \u001b[38;5;28;01mif\u001b[39;00m \u001b[38;5;28misinstance\u001b[39m(gnps_runner, \u001b[38;5;28mdict\u001b[39m)    \u001b[38;5;28;01melse\u001b[39;00m gnps_runner\n",
      "File \u001b[1;32md:\\mine2sirius_pipe\\source\\..\\source\\conversion\\msconv_pipe.py:97\u001b[0m, in \u001b[0;36mFile_Converter.__init__\u001b[1;34m(self, msconvert_path, platform, target_format, pattern, suffix, prefix, contains, redo_threshold, overwrite, save_log, additional_args, verbosity, **kwargs)\u001b[0m\n\u001b[0;32m     67\u001b[0m \u001b[38;5;28;01mdef\u001b[39;00m \u001b[38;5;21m__init__\u001b[39m( \u001b[38;5;28mself\u001b[39m, msconvert_path:StrPath\u001b[38;5;241m=\u001b[39m\u001b[38;5;124m\"\u001b[39m\u001b[38;5;124mmsconvert\u001b[39m\u001b[38;5;124m\"\u001b[39m, platform:\u001b[38;5;28mstr\u001b[39m\u001b[38;5;241m=\u001b[39m\u001b[38;5;124m\"\u001b[39m\u001b[38;5;124mwindows\u001b[39m\u001b[38;5;124m\"\u001b[39m, target_format:\u001b[38;5;28mstr\u001b[39m\u001b[38;5;241m=\u001b[39m\u001b[38;5;124m\"\u001b[39m\u001b[38;5;124mmzML\u001b[39m\u001b[38;5;124m\"\u001b[39m,\n\u001b[0;32m     68\u001b[0m               pattern:\u001b[38;5;28mstr\u001b[39m\u001b[38;5;241m=\u001b[39m\u001b[38;5;124mr\u001b[39m\u001b[38;5;124m\"\u001b[39m\u001b[38;5;124m\"\u001b[39m, suffix:\u001b[38;5;28mstr\u001b[39m\u001b[38;5;241m=\u001b[39m\u001b[38;5;28;01mNone\u001b[39;00m, prefix:\u001b[38;5;28mstr\u001b[39m\u001b[38;5;241m=\u001b[39m\u001b[38;5;28;01mNone\u001b[39;00m, contains:\u001b[38;5;28mstr\u001b[39m\u001b[38;5;241m=\u001b[39m\u001b[38;5;28;01mNone\u001b[39;00m,\n\u001b[0;32m     69\u001b[0m               redo_threshold:\u001b[38;5;28mfloat\u001b[39m\u001b[38;5;241m=\u001b[39m\u001b[38;5;241m1e8\u001b[39m, overwrite:\u001b[38;5;28mbool\u001b[39m\u001b[38;5;241m=\u001b[39m\u001b[38;5;28;01mFalse\u001b[39;00m,\n\u001b[0;32m     70\u001b[0m               save_log \u001b[38;5;241m=\u001b[39m \u001b[38;5;28;01mFalse\u001b[39;00m, additional_args:\u001b[38;5;28mlist\u001b[39m\u001b[38;5;241m=\u001b[39m[], verbosity \u001b[38;5;241m=\u001b[39m \u001b[38;5;241m1\u001b[39m, \u001b[38;5;241m*\u001b[39m\u001b[38;5;241m*\u001b[39mkwargs ):\n\u001b[0;32m     71\u001b[0m \u001b[38;5;250m    \u001b[39m\u001b[38;5;124;03m\"\"\"\u001b[39;00m\n\u001b[0;32m     72\u001b[0m \u001b[38;5;124;03m    Initializes the file converter.\u001b[39;00m\n\u001b[0;32m     73\u001b[0m \n\u001b[1;32m   (...)\u001b[0m\n\u001b[0;32m     95\u001b[0m \u001b[38;5;124;03m    :type verbosity: int, optional\u001b[39;00m\n\u001b[0;32m     96\u001b[0m \u001b[38;5;124;03m    \"\"\"\u001b[39;00m\n\u001b[1;32m---> 97\u001b[0m     \u001b[38;5;28msuper\u001b[39m()\u001b[38;5;241m.\u001b[39m\u001b[38;5;21m__init__\u001b[39m( patterns\u001b[38;5;241m=\u001b[39m{\u001b[38;5;124m\"\u001b[39m\u001b[38;5;124min\u001b[39m\u001b[38;5;124m\"\u001b[39m: pattern}, save_log\u001b[38;5;241m=\u001b[39msave_log, additional_args\u001b[38;5;241m=\u001b[39madditional_args, verbosity\u001b[38;5;241m=\u001b[39mverbosity, \u001b[38;5;241m*\u001b[39m\u001b[38;5;241m*\u001b[39mkwargs)\n\u001b[0;32m     98\u001b[0m     \u001b[38;5;28mself\u001b[39m\u001b[38;5;241m.\u001b[39mmsconvert_path \u001b[38;5;241m=\u001b[39m msconvert_path\n\u001b[0;32m     99\u001b[0m     \u001b[38;5;28mself\u001b[39m\u001b[38;5;241m.\u001b[39mredo_threshold \u001b[38;5;241m=\u001b[39m redo_threshold\n",
      "\u001b[1;31mTypeError\u001b[0m: source.helpers.classes.Pipe_Step.__init__() got multiple values for keyword argument 'patterns'"
     ]
    }
   ],
   "source": [
    "yaml = YAML()\n",
    "with open( \"test.yaml\", \"r\") as f:\n",
    "    config = yaml.load( f.read() )\n",
    "msac = MS_Analysis_Configuration( **config )"
   ]
  },
  {
   "cell_type": "code",
   "execution_count": null,
   "metadata": {},
   "outputs": [
    {
     "data": {
      "text/plain": [
       "'test.yaml'"
      ]
     },
     "execution_count": 42,
     "metadata": {},
     "output_type": "execute_result"
    }
   ],
   "source": [
    "loaded_dict"
   ]
  },
  {
   "cell_type": "code",
   "execution_count": null,
   "metadata": {},
   "outputs": [],
   "source": []
  }
 ],
 "metadata": {
  "kernelspec": {
   "display_name": "mine2sirius",
   "language": "python",
   "name": "python3"
  },
  "language_info": {
   "codemirror_mode": {
    "name": "ipython",
    "version": 3
   },
   "file_extension": ".py",
   "mimetype": "text/x-python",
   "name": "python",
   "nbconvert_exporter": "python",
   "pygments_lexer": "ipython3",
   "version": "3.12.6"
  }
 },
 "nbformat": 4,
 "nbformat_minor": 2
}
