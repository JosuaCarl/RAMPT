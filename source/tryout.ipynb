{
 "cells": [
  {
   "cell_type": "code",
   "execution_count": 40,
   "metadata": {},
   "outputs": [],
   "source": [
    "import sys\n",
    "sys.path.append(\"..\")\n",
    "\n",
    "import os\n",
    "import tee_subprocess"
   ]
  },
  {
   "cell_type": "code",
   "execution_count": null,
   "metadata": {},
   "outputs": [
    {
     "name": "stderr",
     "output_type": "stream",
     "text": [
      "<>:1: SyntaxWarning: invalid escape sequence '\\P'\n",
      "<>:1: SyntaxWarning: invalid escape sequence '\\P'\n",
      "C:\\Users\\JosuaCarl\\AppData\\Local\\Temp\\ipykernel_22592\\1846313634.py:1: SyntaxWarning: invalid escape sequence '\\P'\n",
      "  cmd = ['C:\\Program Files\\mzmine\\mzmine_console.exe', \"--help --version\"]\n"
     ]
    },
    {
     "data": {
      "text/plain": [
       "<coroutine object _target at 0x000002169E3B60C0>"
      ]
     },
     "execution_count": 44,
     "metadata": {},
     "output_type": "execute_result"
    }
   ],
   "source": [
    "cmd = ['C:\\Program Files\\mzmine\\mzmine_console.exe', \"--help --version\"]\n",
    "tee_subprocess.run( cmd, \n",
    "                    shell=True,\n",
    "                    stdout=None,\n",
    "                    stderr=None,\n",
    "                    text=True,\n",
    "                    capture_output=False )"
   ]
  },
  {
   "cell_type": "code",
   "execution_count": null,
   "metadata": {},
   "outputs": [],
   "source": []
  }
 ],
 "metadata": {
  "kernelspec": {
   "display_name": "mine2sirius",
   "language": "python",
   "name": "python3"
  },
  "language_info": {
   "codemirror_mode": {
    "name": "ipython",
    "version": 3
   },
   "file_extension": ".py",
   "mimetype": "text/x-python",
   "name": "python",
   "nbconvert_exporter": "python",
   "pygments_lexer": "ipython3",
   "version": "3.12.6"
  }
 },
 "nbformat": 4,
 "nbformat_minor": 2
}
