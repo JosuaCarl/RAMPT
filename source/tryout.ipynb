{
 "cells": [
  {
   "cell_type": "code",
   "execution_count": 2,
   "metadata": {},
   "outputs": [],
   "source": [
    "import pyopenms as oms"
   ]
  },
  {
   "cell_type": "code",
   "execution_count": 4,
   "metadata": {},
   "outputs": [],
   "source": [
    "exp = oms.MSExperiment()\n",
    "oms.MzXMLFile().store(\"tests/test_files/minimal_file.mzXML\", exp)"
   ]
  },
  {
   "cell_type": "code",
   "execution_count": 7,
   "metadata": {},
   "outputs": [
    {
     "name": "stdout",
     "output_type": "stream",
     "text": [
      "./annotation/__pycache__\n",
      "[]\n",
      "['__init__.cpython-311.pyc', '__init__.cpython-312.pyc']\n",
      "---\n",
      "./annotation\n",
      "['__pycache__']\n",
      "['__init__.py']\n",
      "---\n",
      "./conversion/__pycache__\n",
      "[]\n",
      "['raw_to_mzml.cpython-311.pyc', 'raw_to_mzml.cpython-312.pyc', '__init__.cpython-311.pyc', '__init__.cpython-312.pyc']\n",
      "---\n",
      "./conversion\n",
      "['__pycache__']\n",
      "['raw_to_mzml.py', '__init__.py']\n",
      "---\n",
      "./feature_finding/__pycache__\n",
      "[]\n",
      "['__init__.cpython-311.pyc', '__init__.cpython-312.pyc']\n",
      "---\n",
      "./feature_finding\n",
      "['__pycache__']\n",
      "['__init__.py']\n",
      "---\n",
      "./helpers/__pycache__\n",
      "[]\n",
      "['general.cpython-311.pyc', 'general.cpython-312.pyc', 'types.cpython-312.pyc', '__init__.cpython-311.pyc', '__init__.cpython-312.pyc']\n",
      "---\n",
      "./helpers\n",
      "['__pycache__']\n",
      "['general.py', 'types.py', '__init__.py']\n",
      "---\n",
      "./networking/__pycache__\n",
      "[]\n",
      "['__init__.cpython-311.pyc', '__init__.cpython-312.pyc']\n",
      "---\n",
      "./networking\n",
      "['__pycache__']\n",
      "['__init__.py']\n",
      "---\n",
      "./tests/test_files/out\n",
      "[]\n",
      "[]\n",
      "---\n",
      "./tests/test_files\n",
      "['out']\n",
      "['empty_file', 'empty_text.txt', 'example_text.txt', 'minimal_file.mzML', 'minimal_file.mzXML']\n",
      "---\n",
      "./tests/__pycache__\n",
      "[]\n",
      "['test_conversion.cpython-311-pytest-8.3.3.pyc', 'test_conversion.cpython-312-pytest-8.3.3.pyc', 'test_conversion.cpython-312.pyc', 'test_helpers.cpython-311-pytest-8.3.3.pyc', 'test_helpers.cpython-312-pytest-8.3.3.pyc', 'test_helpers.cpython-312.pyc', '__init__.cpython-311.pyc', '__init__.cpython-312.pyc']\n",
      "---\n",
      "./tests\n",
      "['test_files', '__pycache__']\n",
      "['test_conversion.py', 'test_helpers.py', '__init__.py']\n",
      "---\n",
      "./__pycache__\n",
      "[]\n",
      "['__init__.cpython-311.pyc', '__init__.cpython-312.pyc']\n",
      "---\n",
      ".\n",
      "['annotation', 'conversion', 'feature_finding', 'helpers', 'networking', 'tests', '__pycache__']\n",
      "['quick_scripts', 'tryout.ipynb', '__init__.py']\n",
      "---\n"
     ]
    }
   ],
   "source": [
    "import os\n",
    "from os.path import join, getsize\n",
    "for root, dirs, files in os.walk('.', topdown=False):\n",
    "    print(root)\n",
    "    print(dirs)\n",
    "    print(files)\n",
    "    print(\"---\")"
   ]
  },
  {
   "cell_type": "code",
   "execution_count": 10,
   "metadata": {},
   "outputs": [
    {
     "data": {
      "text/plain": [
       "True"
      ]
     },
     "execution_count": 10,
     "metadata": {},
     "output_type": "execute_result"
    }
   ],
   "source": [
    "import os\n",
    "\"/mnt/d\" == os.PathLike\n",
    "os.path.getsize( \"/mnt/d/mine2sirius_pipe/data/converted/20240919_Ex0014_LC-MSMS_DDA_pHILIC_AV171_R1_msAV775/ndk_R1_P3-D5_neg.mzML\" ) < float(\"5e8\")"
   ]
  },
  {
   "cell_type": "code",
   "execution_count": 9,
   "metadata": {},
   "outputs": [
    {
     "data": {
      "text/plain": [
       "5000.0"
      ]
     },
     "execution_count": 9,
     "metadata": {},
     "output_type": "execute_result"
    }
   ],
   "source": [
    "float(\"5000\")"
   ]
  },
  {
   "cell_type": "code",
   "execution_count": 26,
   "metadata": {},
   "outputs": [
    {
     "data": {
      "text/plain": [
       "True"
      ]
     },
     "execution_count": 26,
     "metadata": {},
     "output_type": "execute_result"
    }
   ],
   "source": [
    "isinstance(\"/mnt/d\", os.PathLike | str)"
   ]
  },
  {
   "cell_type": "code",
   "execution_count": null,
   "metadata": {},
   "outputs": [],
   "source": []
  }
 ],
 "metadata": {
  "kernelspec": {
   "display_name": "mine2sirius",
   "language": "python",
   "name": "python3"
  },
  "language_info": {
   "codemirror_mode": {
    "name": "ipython",
    "version": 3
   },
   "file_extension": ".py",
   "mimetype": "text/x-python",
   "name": "python",
   "nbconvert_exporter": "python",
   "pygments_lexer": "ipython3",
   "version": "3.12.6"
  }
 },
 "nbformat": 4,
 "nbformat_minor": 2
}
