{
 "cells": [
  {
   "cell_type": "code",
   "execution_count": 57,
   "metadata": {},
   "outputs": [],
   "source": [
    "import sys\n",
    "sys.path.append(\"..\")"
   ]
  },
  {
   "cell_type": "code",
   "execution_count": 2,
   "metadata": {},
   "outputs": [
    {
     "name": "stdout",
     "output_type": "stream",
     "text": [
      "C:\\\"Program Files\"\\mzmine\\mzmine.exe\n"
     ]
    }
   ],
   "source": [
    "print(r'C:\\\"Program Files\"\\mzmine\\mzmine.exe')"
   ]
  },
  {
   "cell_type": "code",
   "execution_count": 74,
   "metadata": {},
   "outputs": [],
   "source": [
    "\n",
    "from source.helpers.types import StrPath\n",
    "import os\n",
    "from source.helpers.general import make_new_dir\n",
    "import warnings\n",
    "\n",
    "def make_new_dirpath(dir:StrPath, root_dir_name:StrPath) -> bool:\n",
    "    path_head, path_tail = os.path.split( os.path.normpath(dir) )\n",
    "    if path_head in [\"\", \"/\", \"//\"] or path_tail == root_dir_name:\n",
    "        warnings.warn(f\"Could not construct directory from {dir}.\", UserWarning)\n",
    "        return False\n",
    "    else:\n",
    "        success =  make_new_dirpath(dir=path_head, root_dir_name=root_dir_name)\n",
    "        if os.path.isdir( path_head ):\n",
    "            return make_new_dir(dir)"
   ]
  },
  {
   "cell_type": "code",
   "execution_count": 76,
   "metadata": {},
   "outputs": [
    {
     "name": "stderr",
     "output_type": "stream",
     "text": [
      "/tmp/ipykernel_2420/946874143.py:9: UserWarning: Could not construct directory from /mnt/d/mine2sirius_pipe/source/tests.\n",
      "  warnings.warn(f\"Could not construct directory from {dir}.\", UserWarning)\n"
     ]
    },
    {
     "data": {
      "text/plain": [
       "True"
      ]
     },
     "execution_count": 76,
     "metadata": {},
     "output_type": "execute_result"
    }
   ],
   "source": [
    "make_new_dirpath(dir=\"\", root_dir_name=\"tests\")"
   ]
  },
  {
   "cell_type": "code",
   "execution_count": 79,
   "metadata": {},
   "outputs": [],
   "source": []
  },
  {
   "cell_type": "code",
   "execution_count": 53,
   "metadata": {},
   "outputs": [
    {
     "name": "stdout",
     "output_type": "stream",
     "text": [
      "/\n",
      "\\\\\n"
     ]
    }
   ],
   "source": [
    "import os\n",
    "path = r''\n",
    " \n",
    "# Split the path\n",
    "head, tail = os.path.split( os.path.normpath(path) )\n",
    "print(head)\n",
    "print(tail)"
   ]
  },
  {
   "cell_type": "code",
   "execution_count": 38,
   "metadata": {},
   "outputs": [
    {
     "data": {
      "text/plain": [
       "'C:/a\\\\\\\\a'"
      ]
     },
     "execution_count": 38,
     "metadata": {},
     "output_type": "execute_result"
    }
   ],
   "source": [
    "os.path.normpath(path)"
   ]
  },
  {
   "cell_type": "code",
   "execution_count": 19,
   "metadata": {},
   "outputs": [
    {
     "ename": "NameError",
     "evalue": "name 'pd' is not defined",
     "output_type": "error",
     "traceback": [
      "\u001b[0;31m---------------------------------------------------------------------------\u001b[0m",
      "\u001b[0;31mNameError\u001b[0m                                 Traceback (most recent call last)",
      "Cell \u001b[0;32mIn[19], line 1\u001b[0m\n\u001b[0;32m----> 1\u001b[0m X \u001b[38;5;241m=\u001b[39m \u001b[43mpd\u001b[49m\u001b[38;5;241m.\u001b[39mDataFrame(\u001b[38;5;28mdict\u001b[39m(a\u001b[38;5;241m=\u001b[39m[\u001b[38;5;241m1.0\u001b[39m, \u001b[38;5;241m1.2\u001b[39m, \u001b[38;5;241m0.9\u001b[39m, \u001b[38;5;241m0.98\u001b[39m, \u001b[38;5;241m12.9\u001b[39m, \u001b[38;5;241m12.9\u001b[39m, \u001b[38;5;241m12.5\u001b[39m], b\u001b[38;5;241m=\u001b[39m[\u001b[38;5;241m1.0\u001b[39m, \u001b[38;5;241m1.2\u001b[39m, \u001b[38;5;241m0.9\u001b[39m, \u001b[38;5;241m0.98\u001b[39m, \u001b[38;5;241m12.9\u001b[39m, \u001b[38;5;241m12.9\u001b[39m, \u001b[38;5;241m12.9\u001b[39m], c\u001b[38;5;241m=\u001b[39m[\u001b[38;5;241m1.0\u001b[39m, \u001b[38;5;241m0.9\u001b[39m, \u001b[38;5;241m1.2\u001b[39m, \u001b[38;5;241m0.98\u001b[39m, \u001b[38;5;241m12.9\u001b[39m, \u001b[38;5;241m12.9\u001b[39m, \u001b[38;5;241m12.9\u001b[39m]))\n\u001b[1;32m      2\u001b[0m X \n",
      "\u001b[0;31mNameError\u001b[0m: name 'pd' is not defined"
     ]
    }
   ],
   "source": [
    "X = pd.DataFrame(dict(a=[1.0, 1.2, 0.9, 0.98, 12.9, 12.9, 12.5], b=[1.0, 1.2, 0.9, 0.98, 12.9, 12.9, 12.9], c=[1.0, 0.9, 1.2, 0.98, 12.9, 12.9, 12.9]))\n",
    "X "
   ]
  },
  {
   "cell_type": "code",
   "execution_count": 90,
   "metadata": {},
   "outputs": [
    {
     "data": {
      "text/html": [
       "<div>\n",
       "<style scoped>\n",
       "    .dataframe tbody tr th:only-of-type {\n",
       "        vertical-align: middle;\n",
       "    }\n",
       "\n",
       "    .dataframe tbody tr th {\n",
       "        vertical-align: top;\n",
       "    }\n",
       "\n",
       "    .dataframe thead th {\n",
       "        text-align: right;\n",
       "    }\n",
       "</style>\n",
       "<table border=\"1\" class=\"dataframe\">\n",
       "  <thead>\n",
       "    <tr style=\"text-align: right;\">\n",
       "      <th></th>\n",
       "      <th>a</th>\n",
       "      <th>b</th>\n",
       "      <th>c</th>\n",
       "    </tr>\n",
       "  </thead>\n",
       "  <tbody>\n",
       "    <tr>\n",
       "      <th>0</th>\n",
       "      <td>1789.00</td>\n",
       "      <td>1000.000</td>\n",
       "      <td>143.00</td>\n",
       "    </tr>\n",
       "    <tr>\n",
       "      <th>1</th>\n",
       "      <td>110.20</td>\n",
       "      <td>100.200</td>\n",
       "      <td>4.90</td>\n",
       "    </tr>\n",
       "    <tr>\n",
       "      <th>2</th>\n",
       "      <td>0.29</td>\n",
       "      <td>0.009</td>\n",
       "      <td>165.20</td>\n",
       "    </tr>\n",
       "    <tr>\n",
       "      <th>3</th>\n",
       "      <td>1.98</td>\n",
       "      <td>30000.980</td>\n",
       "      <td>0.98</td>\n",
       "    </tr>\n",
       "    <tr>\n",
       "      <th>4</th>\n",
       "      <td>1200.90</td>\n",
       "      <td>10002.900</td>\n",
       "      <td>120.90</td>\n",
       "    </tr>\n",
       "    <tr>\n",
       "      <th>5</th>\n",
       "      <td>11200.90</td>\n",
       "      <td>12.900</td>\n",
       "      <td>1782.90</td>\n",
       "    </tr>\n",
       "    <tr>\n",
       "      <th>6</th>\n",
       "      <td>120002.10</td>\n",
       "      <td>12.900</td>\n",
       "      <td>182.90</td>\n",
       "    </tr>\n",
       "  </tbody>\n",
       "</table>\n",
       "</div>"
      ],
      "text/plain": [
       "           a          b        c\n",
       "0    1789.00   1000.000   143.00\n",
       "1     110.20    100.200     4.90\n",
       "2       0.29      0.009   165.20\n",
       "3       1.98  30000.980     0.98\n",
       "4    1200.90  10002.900   120.90\n",
       "5   11200.90     12.900  1782.90\n",
       "6  120002.10     12.900   182.90"
      ]
     },
     "execution_count": 90,
     "metadata": {},
     "output_type": "execute_result"
    }
   ],
   "source": [
    "Y = pd.DataFrame(dict(a=[1789.0, 110.2, 0.29, 01.98, 1200.9, 11200.9, 120002.1], b=[1000.0, 100.2, 0.009, 30000.98, 10002.9, 12.9, 12.9], c=[143.0, 04.9, 165.2, 0.98, 120.9, 1782.9, 182.9]))\n",
    "Y"
   ]
  },
  {
   "cell_type": "code",
   "execution_count": 92,
   "metadata": {},
   "outputs": [
    {
     "data": {
      "text/plain": [
       "WilcoxonResult(statistic=np.float64(3.0), pvalue=np.float64(0.0003270126629328652))"
      ]
     },
     "execution_count": 92,
     "metadata": {},
     "output_type": "execute_result"
    }
   ],
   "source": [
    "stats.wilcoxon(X, Y, axis=None)"
   ]
  },
  {
   "cell_type": "code",
   "execution_count": 86,
   "metadata": {},
   "outputs": [
    {
     "data": {
      "text/plain": [
       "WilcoxonResult(statistic=np.float64(2.5), pvalue=np.float64(0.15625))"
      ]
     },
     "execution_count": 86,
     "metadata": {},
     "output_type": "execute_result"
    }
   ],
   "source": [
    "stats.wilcoxon((1,2,3,4,5,-1), (700.0,3,2,5,6,4))"
   ]
  },
  {
   "cell_type": "code",
   "execution_count": 39,
   "metadata": {},
   "outputs": [
    {
     "data": {
      "text/plain": [
       "tuple"
      ]
     },
     "execution_count": 39,
     "metadata": {},
     "output_type": "execute_result"
    }
   ],
   "source": [
    "type((1,(1),2,3))"
   ]
  },
  {
   "cell_type": "code",
   "execution_count": 31,
   "metadata": {},
   "outputs": [
    {
     "data": {
      "text/html": [
       "<div>\n",
       "<style scoped>\n",
       "    .dataframe tbody tr th:only-of-type {\n",
       "        vertical-align: middle;\n",
       "    }\n",
       "\n",
       "    .dataframe tbody tr th {\n",
       "        vertical-align: top;\n",
       "    }\n",
       "\n",
       "    .dataframe thead th {\n",
       "        text-align: right;\n",
       "    }\n",
       "</style>\n",
       "<table border=\"1\" class=\"dataframe\">\n",
       "  <thead>\n",
       "    <tr style=\"text-align: right;\">\n",
       "      <th></th>\n",
       "      <th>a</th>\n",
       "    </tr>\n",
       "  </thead>\n",
       "  <tbody>\n",
       "    <tr>\n",
       "      <th>0</th>\n",
       "      <td>1.00</td>\n",
       "    </tr>\n",
       "    <tr>\n",
       "      <th>1</th>\n",
       "      <td>1.20</td>\n",
       "    </tr>\n",
       "    <tr>\n",
       "      <th>2</th>\n",
       "      <td>0.90</td>\n",
       "    </tr>\n",
       "    <tr>\n",
       "      <th>3</th>\n",
       "      <td>0.98</td>\n",
       "    </tr>\n",
       "    <tr>\n",
       "      <th>4</th>\n",
       "      <td>12.90</td>\n",
       "    </tr>\n",
       "    <tr>\n",
       "      <th>5</th>\n",
       "      <td>12.90</td>\n",
       "    </tr>\n",
       "    <tr>\n",
       "      <th>6</th>\n",
       "      <td>12.50</td>\n",
       "    </tr>\n",
       "  </tbody>\n",
       "</table>\n",
       "</div>"
      ],
      "text/plain": [
       "       a\n",
       "0   1.00\n",
       "1   1.20\n",
       "2   0.90\n",
       "3   0.98\n",
       "4  12.90\n",
       "5  12.90\n",
       "6  12.50"
      ]
     },
     "execution_count": 31,
     "metadata": {},
     "output_type": "execute_result"
    }
   ],
   "source": [
    "Y = pd.DataFrame(dict(a=[1.0, 1.2, 0.9, 0.98, 12.9, 12.9, 12.5]))\n",
    "Y"
   ]
  },
  {
   "cell_type": "code",
   "execution_count": null,
   "metadata": {},
   "outputs": [],
   "source": []
  }
 ],
 "metadata": {
  "kernelspec": {
   "display_name": "mine2sirius",
   "language": "python",
   "name": "python3"
  },
  "language_info": {
   "codemirror_mode": {
    "name": "ipython",
    "version": 3
   },
   "file_extension": ".py",
   "mimetype": "text/x-python",
   "name": "python",
   "nbconvert_exporter": "python",
   "pygments_lexer": "ipython3",
   "version": "3.12.6"
  }
 },
 "nbformat": 4,
 "nbformat_minor": 2
}
