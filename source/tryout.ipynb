{
 "cells": [
  {
   "cell_type": "code",
   "execution_count": 1,
   "metadata": {},
   "outputs": [],
   "source": [
    "import sys\n",
    "sys.path.append(\"..\")\n",
    "\n",
    "import os"
   ]
  },
  {
   "cell_type": "code",
   "execution_count": 8,
   "metadata": {},
   "outputs": [
    {
     "data": {
      "text/plain": [
       "[{'Directory': 'a',\n",
       "  'Sub': [{'Directory': 'c',\n",
       "    'Sub': [{'Directory': 'c',\n",
       "      'Sub': [{'Directory': 'a',\n",
       "        'Sub': [{'Directory': 'b', 'Sub': ['/a/c/c/a/b/c']}]}]},\n",
       "     '/a/c/c',\n",
       "     '/a/c/c']},\n",
       "   {'Directory': 'b',\n",
       "    'Sub': [{'Directory': 'c',\n",
       "      'Sub': [{'Directory': 'a',\n",
       "        'Sub': [{'Directory': 'b', 'Sub': ['/a/b/c/a/b/c']}]}]}]}]}]"
      ]
     },
     "execution_count": 8,
     "metadata": {},
     "output_type": "execute_result"
    }
   ],
   "source": [
    "class Path_Nester:\n",
    "    \"\"\"\n",
    "    Class for nesting paths into a list of directories with lists of subdirectories.\n",
    "    \"\"\"\n",
    "    def __init__( self, nesting_depth:int = 1, nested_paths:list=[], dir_name:str=\"Directory\", sub_name:str=\"Sub\" ):\n",
    "        \"\"\"\n",
    "        Initalize Path_Nester\n",
    "\n",
    "        :param nesting_depth: Depth of nesting that is used to group final instances (number of subs in last sub), defaults to 1\n",
    "        :type nesting_depth: int, optional\n",
    "        :param nested_paths: Current nested paths, defaults to []\n",
    "        :type nested_paths: list, optional\n",
    "        :param dir_name: Name for directory structures, defaults to \"Directory\"\n",
    "        :type dir_name: str, optional\n",
    "        :param sub_name: Name for substructures, defaults to \"Sub\"\n",
    "        :type sub_name: str, optional\n",
    "        \"\"\"\n",
    "        self.nesting_depth  = nesting_depth\n",
    "        self.nested_paths   = nested_paths\n",
    "        self.dir_name       = dir_name\n",
    "        self.sub_name       = sub_name\n",
    "\n",
    "\n",
    "    def add_nested_lists( self, split_steps, nested_paths, complete_path ):\n",
    "        step = split_steps[0]\n",
    "\n",
    "        if len(split_steps) == self.nesting_depth:\n",
    "            if isinstance(nested_paths, list):\n",
    "                nested_paths.append( complete_path )\n",
    "            elif nested_path:\n",
    "                nested_paths[0][self.sub_name] = nested_paths[0][self.sub_name] + [complete_path]\n",
    "            else:\n",
    "                nested_paths = [{ self.dir_name: step,\n",
    "                                  self.sub_name: [complete_path]}]\n",
    "            return nested_paths\n",
    "        \n",
    "        split_found = False\n",
    "        for nested_path in nested_paths :\n",
    "            if isinstance(nested_path, dict) and step == nested_path.get(self.dir_name):\n",
    "                nested_path[self.sub_name] = self.add_nested_lists( split_steps[1:],\n",
    "                                                                    nested_path.get(self.sub_name),\n",
    "                                                                    complete_path )\n",
    "                split_found = True\n",
    "\n",
    "        if not split_found:\n",
    "            nested_paths.append( { self.dir_name: step,\n",
    "                                   self.sub_name: self.add_nested_lists( split_steps[1:],\n",
    "                                                                         [],\n",
    "                                                                         complete_path ) } )\n",
    "\n",
    "        return nested_paths\n",
    "        \n",
    "\n",
    "    def update_nested_paths( self, new_paths ):\n",
    "        for new_path in new_paths:\n",
    "            in_path = os.path.normpath( new_path )\n",
    "            split_path = in_path.split( os.sep )\n",
    "            self.nested_paths = self.add_nested_lists( split_path[1:],\n",
    "                                                       self.nested_paths,\n",
    "                                                       in_path)\n",
    "        return self.nested_paths\n",
    "    \n",
    "path_nester = Path_Nester()\n",
    "path_nester.update_nested_paths( [\"/a/c/c/a/b/c\", \"/a/c/c\", \"/a/c/c\", \"/a/b/c/a/b/c\"] )"
   ]
  },
  {
   "cell_type": "code",
   "execution_count": null,
   "metadata": {},
   "outputs": [],
   "source": [
    "[{'Directory': 'a',\n",
    "  'Sub': [{'Directory': 'c',\n",
    "    'Sub': [{'Directory': 'c',\n",
    "      'Sub': [{'Directory': 'a',\n",
    "        'Sub': [{'Directory': 'b',\n",
    "          'Sub': [[{'Directory': 'c', 'Sub': ['/a/c/c/a/b/c']}]]}]}]\n",
    "            },\n",
    "        [{'Directory': 'c', 'Sub': ['/a/c/c']}],\n",
    "        [{'Directory': 'c', 'Sub': ['/a/c/c']}]\n",
    "        \n",
    "        ]},\n",
    "   {'Directory': 'b',\n",
    "    'Sub': [{'Directory': 'c',\n",
    "      'Sub': [{'Directory': 'a',\n",
    "        'Sub': [{'Directory': 'b',\n",
    "          'Sub': [[{'Directory': 'c', 'Sub': ['/a/b/c/a/b/c']}]]}]}]}]}]}]"
   ]
  }
 ],
 "metadata": {
  "kernelspec": {
   "display_name": "mine2sirius",
   "language": "python",
   "name": "python3"
  },
  "language_info": {
   "codemirror_mode": {
    "name": "ipython",
    "version": 3
   },
   "file_extension": ".py",
   "mimetype": "text/x-python",
   "name": "python",
   "nbconvert_exporter": "python",
   "pygments_lexer": "ipython3",
   "version": "3.12.6"
  }
 },
 "nbformat": 4,
 "nbformat_minor": 2
}
