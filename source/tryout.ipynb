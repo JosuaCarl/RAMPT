{
 "cells": [
  {
   "cell_type": "code",
   "execution_count": 1,
   "metadata": {},
   "outputs": [],
   "source": [
    "import sys\n",
    "sys.path.append(\"..\")\n",
    "\n",
    "import os"
   ]
  },
  {
   "cell_type": "code",
   "execution_count": null,
   "metadata": {},
   "outputs": [],
   "source": [
    "import os\n",
    "import sys\n",
    "\n",
    "def is_admin():\n",
    "    \"\"\"Check if the script is running with root privileges.\"\"\"\n",
    "    return os.geteuid() == 0\n",
    "\n",
    "def restart_as_admin():\n",
    "    \"\"\"Restart the script with sudo.\"\"\"\n",
    "    if not is_admin():\n",
    "        print(\"This script requires administrative privileges.\")\n",
    "        try:\n",
    "            # Relaunch with sudo\n",
    "            os.execvp(\"sudo\", [\"sudo\", sys.executable] + sys.argv)\n",
    "        except Exception as e:\n",
    "            print(f\"Failed to elevate privileges: {e}\")\n",
    "            sys.exit(1)\n",
    "\n",
    "# Example usage\n",
    "if __name__ == \"__main__\":\n",
    "    if not is_admin():\n",
    "        restart_as_admin()\n",
    "    else:\n",
    "        print(\"Running with administrative privileges.\")\n",
    "        # Your install logic here\n"
   ]
  },
  {
   "cell_type": "code",
   "execution_count": 1,
   "metadata": {},
   "outputs": [],
   "source": []
  },
  {
   "cell_type": "code",
   "execution_count": 2,
   "metadata": {},
   "outputs": [
    {
     "name": "stdout",
     "output_type": "stream",
     "text": [
      "The system architecture is: ('64bit', 'ELF')\n"
     ]
    }
   ],
   "source": [
    "import platform\n",
    "\n",
    "def get_system_architecture():\n",
    "    \"\"\"\n",
    "    Returns the system architecture (32-bit or 64-bit).\n",
    "    \"\"\"\n",
    "    arch = platform.architecture()[0]\n",
    "    return arch\n",
    "\n",
    "# Example usage\n",
    "print(f\"The system architecture is: {get_system_architecture()}\")\n"
   ]
  }
 ],
 "metadata": {
  "kernelspec": {
   "display_name": ".venv",
   "language": "python",
   "name": "python3"
  },
  "language_info": {
   "codemirror_mode": {
    "name": "ipython",
    "version": 3
   },
   "file_extension": ".py",
   "mimetype": "text/x-python",
   "name": "python",
   "nbconvert_exporter": "python",
   "pygments_lexer": "ipython3",
   "version": "3.12.6"
  }
 },
 "nbformat": 4,
 "nbformat_minor": 2
}
